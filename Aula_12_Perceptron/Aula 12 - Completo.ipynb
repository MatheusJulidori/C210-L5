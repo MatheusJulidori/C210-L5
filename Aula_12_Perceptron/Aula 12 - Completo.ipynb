{
 "cells": [
  {
   "cell_type": "markdown",
   "id": "c484ea37",
   "metadata": {},
   "source": [
    "# Redes Perceptron"
   ]
  },
  {
   "cell_type": "markdown",
   "id": "06a97924",
   "metadata": {},
   "source": [
    "* Utilizada principalmetne na identificação de padrões\n",
    "* Rede feed-forward\n",
    "* Treinamento Supervisionado\n",
    "* Classes devem ser linearmente separáveis"
   ]
  },
  {
   "cell_type": "markdown",
   "id": "e4ad8a3a",
   "metadata": {},
   "source": [
    "## Modelo de neurônio"
   ]
  },
  {
   "cell_type": "markdown",
   "id": "de509f11",
   "metadata": {},
   "source": [
    "<img src=\"neuronio.jpg\" style=width:500px;height:400px/>"
   ]
  },
  {
   "cell_type": "markdown",
   "id": "5fd9ce39",
   "metadata": {},
   "source": [
    "## Função de Ativação"
   ]
  },
  {
   "cell_type": "markdown",
   "id": "80d8ab56",
   "metadata": {},
   "source": [
    "<img src=\"limiar.jpg\" style=width:500px;height:400px/>"
   ]
  },
  {
   "cell_type": "code",
   "execution_count": null,
   "id": "8e02c100",
   "metadata": {},
   "outputs": [],
   "source": [
    "import numpy as np\n",
    "import matplotlib.pyplot as plt\n",
    "\n",
    "# Criadno Dataset\n",
    "x = np.array([[5.7, 7.5], [9.3, 5.6], [8.8, 6.9], [6.8, 9.2], [7.9, 9.1],\n",
    "              [8.8, 5.6], [5.6, 7.8], [8.8, 9.0], [7.6, 5.9], [4.9, 8.1],\n",
    "              [6.6, 4.5], [5.2, 7.2], [1.2, 1.2], [2.4, 1.6], [4.7, 2.5],\n",
    "              [0.9, 3.1], [2.6, 4.1], [1.8, 2.0], [4.1, 2.8], [1.8, 1.6],\n",
    "              [1.9, 3.1], [0.8, 3.2], [1.8, 2.9], [3.3, 1.6], [3.7, 2.5]\n",
    "             ])\n",
    "\n",
    "d = np.array([1, 1, 1, 1, 1, 1, 1, 1, 1, 1, 1, 1, 0, 0, -1, -1, -1, -1, -1, -1, -1, -1, -1, -1, -1])\n",
    "\n",
    "plt.figure(figsize=(6,4))\n",
    "plt.title(\"Data points\")\n",
    "plt.scatter(x[:, 0], x[:, 1], c = d, cmap = 'bwr')\n",
    "plt.show()"
   ]
  },
  {
   "cell_type": "code",
   "execution_count": null,
   "id": "87d6e902",
   "metadata": {},
   "outputs": [],
   "source": [
    "#CRIANDO A CLASSE DA REDE PERCEPTRON\n",
    "class Perceptron:\n",
    "    \n",
    "    def __init__(self, lr, n_epochs):\n",
    "        # Construtor, define taxa de aprendizado e número máximo de épocas\n",
    "        self.lr = lr\n",
    "        self.n_epochs = n_epochs\n",
    "        \n",
    "    def activation(self, value):\n",
    "        # 1 se value >= 0, -1 se value < 0,  \n",
    "        return (1 if value >= 0 else -1)\n",
    "        \n",
    "    def predict(self, x):\n",
    "        # Multiplicação matricial entre as entradas e os pesos somado ao bias proporcional\n",
    "        return np.dot(x, self.weights.T) + self.bias * self.w_bias\n",
    "    \n",
    "    def evaluate(self, target, predicted):\n",
    "        # Calcula a diferença entre o valor real e o valor predito\n",
    "        return (target - predicted)\n",
    "    \n",
    "    def train(self, x, d):\n",
    "        # Definir aleatoriamente os pesos, o bias e o peso do bias\n",
    "        # Enquanto houver erro, ou o máximo de épocas não for atingido continua o processo\n",
    "            \n",
    "        self.weights = np.random.random(x.shape[1])\n",
    "        print(x.shape)\n",
    "        self.bias = np.random.random()\n",
    "        self.w_bias = np.random.random()\n",
    "        \n",
    "        epoch = 0\n",
    "        is_error = True\n",
    "        self.total_error = []\n",
    "        \n",
    "        while is_error and epoch < self.n_epochs:\n",
    "            \n",
    "            is_error  = False\n",
    "            epoch_errors = 0\n",
    "            \n",
    "            # Para cada amostra\n",
    "            for xi, target in zip(x, d):\n",
    "                \n",
    "                predicted = self.predict(xi)\n",
    "                predicted = self.activation(predicted)\n",
    "                \n",
    "                current_error = self.evaluate(target, predicted)\n",
    "                epoch_errors += current_error\n",
    "                \n",
    "                # Se houve erro, atualizar os pesos\n",
    "                if predicted != target:\n",
    "                    self.weights += self.lr * current_error * xi\n",
    "                    self.w_bias += self.lr * current_error * self.bias\n",
    "                    is_error = True\n",
    "                    \n",
    "            self.total_error.append(epoch_errors/len(x))\n",
    "            epoch += 1\n",
    "            \n",
    "    def test(self, x):\n",
    "        ''' Dado uma lista de X, submete-os à rede'''\n",
    "        results = []\n",
    "        for xi in x:\n",
    "            predict = self.predict(xi)\n",
    "            predict = self.activation(predict)\n",
    "            results.append(predict)\n",
    "            \n",
    "        return results"
   ]
  },
  {
   "cell_type": "code",
   "execution_count": null,
   "id": "e7a38819",
   "metadata": {},
   "outputs": [],
   "source": [
    "# Instanciando e treinando a rede\n",
    "p = Perceptron(lr = 0.1, n_epochs = 200)\n",
    "p.train(x = x, d = d)"
   ]
  },
  {
   "cell_type": "code",
   "execution_count": null,
   "id": "2f2d47d6",
   "metadata": {},
   "outputs": [],
   "source": [
    "# Entrando com novos valores para teste\n",
    "x_teste = np.array([[6, 2], [9, 3], [5, 6], [7, 3], [6, 7], [1, 6]])\n",
    "\n",
    "teste_resultado = p.test(x_teste)\n",
    "teste_resultado"
   ]
  },
  {
   "cell_type": "code",
   "execution_count": null,
   "id": "c4d6676a",
   "metadata": {},
   "outputs": [],
   "source": [
    "# Mostrando valores preditos\n",
    "plt.figure(figsize=(12,8))\n",
    "plt.title(\"Data points + Predicted\")\n",
    "plt.scatter(x[:, 0], x[:, 1], c = d, cmap = 'bwr')\n",
    "plt.scatter(x_teste[:, 0], x_teste[:, 1], c = teste_resultado, cmap = 'bwr', marker = \"*\", s=250)\n",
    "plt.show()"
   ]
  },
  {
   "cell_type": "code",
   "execution_count": null,
   "id": "1155615f",
   "metadata": {},
   "outputs": [],
   "source": [
    "# Mostrando a atualização dos valores de erro \n",
    "plt.figure(figsize=(6,4))\n",
    "plt.title(\"Error\")\n",
    "plt.plot(p.total_error)\n",
    "plt.show()"
   ]
  },
  {
   "cell_type": "code",
   "execution_count": null,
   "id": "edfd33f1",
   "metadata": {},
   "outputs": [],
   "source": []
  }
 ],
 "metadata": {
  "kernelspec": {
   "display_name": "Python 3 (ipykernel)",
   "language": "python",
   "name": "python3"
  },
  "language_info": {
   "codemirror_mode": {
    "name": "ipython",
    "version": 3
   },
   "file_extension": ".py",
   "mimetype": "text/x-python",
   "name": "python",
   "nbconvert_exporter": "python",
   "pygments_lexer": "ipython3",
   "version": "3.11.6"
  }
 },
 "nbformat": 4,
 "nbformat_minor": 5
}
