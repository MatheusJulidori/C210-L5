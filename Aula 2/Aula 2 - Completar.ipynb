{
 "cells": [
  {
   "cell_type": "markdown",
   "id": "58cfe49f",
   "metadata": {},
   "source": [
    "# Aprendizado de Máquina\n"
   ]
  },
  {
   "cell_type": "markdown",
   "id": "ddadd70a",
   "metadata": {},
   "source": [
    "O machine learning (ML)  é uma subcategoria de inteligência artificial que se refere ao processo pelo qual os computadores desenvolvem o reconhecimento de padrões ou a capacidade de aprender continuamente ou fazer previsões com base em dados."
   ]
  },
  {
   "cell_type": "markdown",
   "id": "aed18ea2",
   "metadata": {},
   "source": [
    "## Aprendizado não supervisionado"
   ]
  },
  {
   "cell_type": "markdown",
   "id": "6aaf95b2",
   "metadata": {},
   "source": [
    "Caracterizado pela não existência de um agente externo indicando a resposta desejada para os padrões de entrada e têm por objetivo agrupas os dados fornecidos. Por exemplo os algoritmos de agrupamento.\n"
   ]
  },
  {
   "cell_type": "markdown",
   "id": "2379b3f2",
   "metadata": {},
   "source": [
    "<img src=\"Não supervisionado.jpg\" style=width:500px;height:400px/>"
   ]
  },
  {
   "cell_type": "markdown",
   "id": "d8fbf48f",
   "metadata": {},
   "source": [
    "## Aprendizado supervisionado"
   ]
  },
  {
   "cell_type": "markdown",
   "id": "9c51a137",
   "metadata": {},
   "source": [
    "Caracterizado pela existência de um agente externo indicando a resposta desejada para os padrões de entrada e têm por objetivo ser capaz de classificar dados futuros. Ao utilizarmos aprendizado supervisionado, dividimos nosso dataset em dados de treino e dados de teste, geralmente numa proporção de 80% para treino e 20% para teste. Como exemplo podemos citar os algoritmos de regressão e classificação.\n"
   ]
  },
  {
   "cell_type": "markdown",
   "id": "c77ad1fe",
   "metadata": {},
   "source": [
    "<img src=\"Supervisionado.jpg\" style=width:500px;height:400px/>"
   ]
  },
  {
   "cell_type": "markdown",
   "id": "647163b1",
   "metadata": {},
   "source": [
    "### Algoritmos de classificação"
   ]
  },
  {
   "cell_type": "markdown",
   "id": "d04f490c",
   "metadata": {},
   "source": [
    "Como o próprio nome sugere, são algoritmos criados visando classificar futuros dados utilizando de um treinamento prévio que pode ser feito utilizando diferentes métodos. Na aula de hoje veremos 3 deles, que são:"
   ]
  },
  {
   "cell_type": "markdown",
   "id": "fa87e9a0",
   "metadata": {},
   "source": [
    "#### K-Vizinhos mais próximos (K-nearest neighbours)"
   ]
  },
  {
   "cell_type": "markdown",
   "id": "181043cf",
   "metadata": {},
   "source": [
    "Algoritmo baseado na distância entre o ponto que queremos classificar e seus vizinhos. Pode ter diferentes resultados se variarmos os valores de k, como podemos ver na imagem. (A biblioteca sklearn usa um padrão de k=5 vizinhos)."
   ]
  },
  {
   "cell_type": "markdown",
   "id": "b41357e0",
   "metadata": {},
   "source": [
    "<img src=\"knn.jpg\" style=width:500px;height:400px/>"
   ]
  },
  {
   "cell_type": "markdown",
   "id": "c8758e48",
   "metadata": {},
   "source": [
    "#### Árvore de decisão (Decision Tree)"
   ]
  },
  {
   "cell_type": "markdown",
   "id": "2ad0e077",
   "metadata": {},
   "source": [
    "Como o próprio nome sugere, o algoritmo é inspirado em uma árvore de decisão, e com base em uma sequência de escolhas, chega em um resultado. Para exemplificar temos abaixo uma árvore mostrando uma decisão do que fazer em um dia de folga."
   ]
  },
  {
   "cell_type": "markdown",
   "id": "3e627c08",
   "metadata": {},
   "source": [
    "<img src=\"arvore.jpg\" style=width:500px;height:400px/>"
   ]
  },
  {
   "cell_type": "markdown",
   "id": "812d3912",
   "metadata": {},
   "source": [
    "#### Floresta aleatória (Random forest)"
   ]
  },
  {
   "cell_type": "markdown",
   "id": "24d005e1",
   "metadata": {},
   "source": [
    "O algoritmo de florestas aleatórias cria várias árvores de decisão e as combina para obter uma predição com maior acurácia e mais estável."
   ]
  },
  {
   "cell_type": "markdown",
   "id": "f4459467",
   "metadata": {},
   "source": [
    "<img src=\"floresta.jpg\" style=width:500px;height:400px/>"
   ]
  },
  {
   "cell_type": "markdown",
   "id": "d8625c1f",
   "metadata": {},
   "source": [
    "## Apresentação do problema"
   ]
  },
  {
   "cell_type": "markdown",
   "id": "dc1e0f69",
   "metadata": {},
   "source": [
    "Na aula de hoje utilizaremos de um dataset chamado íris que contém diversas amostras de flores, e treinaremos um algoritmo para que saiba definir de qual tipo de íris se trata."
   ]
  },
  {
   "cell_type": "markdown",
   "id": "dbb6734f",
   "metadata": {},
   "source": [
    "Primeiro vamos dar uma passada em alguns termos que são importantes e bastante usados em machine learning:\n",
    "    \n",
    "    Samples(amostras): Representa cada uma das amostras recolhidas (cada uma das linhas da tabela);\n",
    "    Features: Representa cada um dos atributos (variáveis) das amostras (cada coluna de uma tabela);\n",
    "    Target: É a classificação relacionada a cada uma das amostras."
   ]
  },
  {
   "cell_type": "markdown",
   "id": "6e6698e3",
   "metadata": {},
   "source": [
    "<img src=\"tabela.jpg\" style=width:500px;height:400px/>"
   ]
  },
  {
   "cell_type": "markdown",
   "id": "2f8944cb",
   "metadata": {},
   "source": [
    "### Importando bibliotecas"
   ]
  },
  {
   "cell_type": "code",
   "execution_count": 3,
   "id": "b8855ad5",
   "metadata": {},
   "outputs": [],
   "source": [
    "### Análise de dados\n",
    "import pandas as pd\n",
    "import numpy as np\n",
    "import matplotlib.pyplot as plt\n",
    "import seaborn as sns\n",
    "\n",
    "### Criação do modelo\n",
    "from sklearn.tree import DecisionTreeClassifier\n",
    "from sklearn.ensemble import RandomForestClassifier\n",
    "from sklearn.neighbors import KNeighborsClassifier\n",
    "from sklearn.model_selection import train_test_split \n",
    "\n",
    "### Avaliação de métricas\n",
    "from sklearn.metrics import accuracy_score"
   ]
  },
  {
   "cell_type": "markdown",
   "id": "a622175b",
   "metadata": {},
   "source": [
    "### Leitura dos dados"
   ]
  },
  {
   "cell_type": "code",
   "execution_count": 2,
   "id": "8e24746f",
   "metadata": {},
   "outputs": [],
   "source": [
    "\n",
    "\n",
    "###importando no google collab\n",
    "\n",
    "#import io\n",
    "\n",
    "#from google.colab import files\n",
    "#uploaded = files.upload()\n",
    "\n",
    "#data = pd.read_csv(io.BytesIO(uploaded['iris.csv']))\n",
    "#data.head()"
   ]
  },
  {
   "cell_type": "markdown",
   "id": "dc98a59c",
   "metadata": {},
   "source": [
    "### Análise exploratória"
   ]
  },
  {
   "cell_type": "code",
   "execution_count": 3,
   "id": "1feaf6e1",
   "metadata": {},
   "outputs": [
    {
     "ename": "NameError",
     "evalue": "name 'data' is not defined",
     "output_type": "error",
     "traceback": [
      "\u001b[1;31m---------------------------------------------------------------------------\u001b[0m",
      "\u001b[1;31mNameError\u001b[0m                                 Traceback (most recent call last)",
      "Cell \u001b[1;32mIn[3], line 4\u001b[0m\n\u001b[0;32m      1\u001b[0m plt\u001b[39m.\u001b[39mfigure(figsize\u001b[39m=\u001b[39m(\u001b[39m12\u001b[39m,\u001b[39m4\u001b[39m))\n\u001b[0;32m      3\u001b[0m plt\u001b[39m.\u001b[39msubplot(\u001b[39m1\u001b[39m,\u001b[39m2\u001b[39m,\u001b[39m1\u001b[39m)\n\u001b[1;32m----> 4\u001b[0m sns\u001b[39m.\u001b[39mscatterplot(data\u001b[39m=\u001b[39mdata, x \u001b[39m=\u001b[39m \u001b[39m\"\u001b[39m\u001b[39mpetal length (cm)\u001b[39m\u001b[39m\"\u001b[39m, y \u001b[39m=\u001b[39m \u001b[39m\"\u001b[39m\u001b[39mpetal width (cm)\u001b[39m\u001b[39m\"\u001b[39m, hue \u001b[39m=\u001b[39m \u001b[39m\"\u001b[39m\u001b[39mtarget\u001b[39m\u001b[39m\"\u001b[39m)\n\u001b[0;32m      5\u001b[0m plt\u001b[39m.\u001b[39mtitle(\u001b[39m\"\u001b[39m\u001b[39mPetal Width vs Length\u001b[39m\u001b[39m\"\u001b[39m)\n\u001b[0;32m      6\u001b[0m plt\u001b[39m.\u001b[39mxlabel(\u001b[39m\"\u001b[39m\u001b[39mWidth\u001b[39m\u001b[39m\"\u001b[39m)\n",
      "\u001b[1;31mNameError\u001b[0m: name 'data' is not defined"
     ]
    },
    {
     "data": {
      "image/png": "[encoded data removed]",
      "text/plain": [
       "<Figure size 1200x400 with 1 Axes>"
      ]
     },
     "metadata": {},
     "output_type": "display_data"
    }
   ],
   "source": [
    "plt.figure(figsize=(12,4))\n",
    "\n",
    "plt.subplot(1,2,1)\n",
    "sns.scatterplot(data=data, x = \"petal length (cm)\", y = \"petal width (cm)\", hue = \"target\")\n",
    "plt.title(\"Petal Width vs Length\")\n",
    "plt.xlabel(\"Width\")\n",
    "plt.ylabel(\"Length\")\n",
    "\n",
    "plt.subplot(1,2,2)\n",
    "sns.scatterplot(data=data, x = \"sepal length (cm)\", y = \"sepal width (cm)\", hue = \"target\")\n",
    "plt.title(\"Sepal Width vs Length\")\n",
    "plt.xlabel(\"Width\")\n",
    "plt.ylabel(\"Length\")\n",
    "\n",
    "plt.show()"
   ]
  },
  {
   "cell_type": "markdown",
   "id": "d4fce7cf",
   "metadata": {},
   "source": [
    "### Definição do modelo e treino"
   ]
  },
  {
   "cell_type": "code",
   "execution_count": null,
   "id": "29b83e23",
   "metadata": {},
   "outputs": [],
   "source": [
    "# instanciando modelos\n"
   ]
  },
  {
   "cell_type": "code",
   "execution_count": null,
   "id": "3d946715",
   "metadata": {},
   "outputs": [
    {
     "name": "stdout",
     "output_type": "stream",
     "text": [
      "Tamanho x treino: (120, 4)\n",
      "Tamanho x teste: (30, 4)\n",
      "Tamanho y teste: (30,)\n",
      "Tamanho y treino: (120,)\n"
     ]
    }
   ],
   "source": [
    "# Separando dados\n",
    "## Variáveis preditoras\n",
    "\n",
    "\n",
    "## Variável alvo\n",
    "\n",
    "\n",
    "## Separando treino e teste\n",
    "\n",
    "\n",
    "print(f\"Tamanho x treino: {X_train.shape}\")\n",
    "print(f\"Tamanho x teste: {X_test.shape}\")\n",
    "print(f\"Tamanho y teste: {y_test.shape}\")\n",
    "print(f\"Tamanho y treino: {y_train.shape}\")\n"
   ]
  },
  {
   "cell_type": "code",
   "execution_count": null,
   "id": "5c1b426b",
   "metadata": {},
   "outputs": [
    {
     "data": {
      "text/html": [
       "<style>#sk-container-id-1 {color: black;background-color: white;}#sk-container-id-1 pre{padding: 0;}#sk-container-id-1 div.sk-toggleable {background-color: white;}#sk-container-id-1 label.sk-toggleable__label {cursor: pointer;display: block;width: 100%;margin-bottom: 0;padding: 0.3em;box-sizing: border-box;text-align: center;}#sk-container-id-1 label.sk-toggleable__label-arrow:before {content: \"▸\";float: left;margin-right: 0.25em;color: #696969;}#sk-container-id-1 label.sk-toggleable__label-arrow:hover:before {color: black;}#sk-container-id-1 div.sk-estimator:hover label.sk-toggleable__label-arrow:before {color: black;}#sk-container-id-1 div.sk-toggleable__content {max-height: 0;max-width: 0;overflow: hidden;text-align: left;background-color: #f0f8ff;}#sk-container-id-1 div.sk-toggleable__content pre {margin: 0.2em;color: black;border-radius: 0.25em;background-color: #f0f8ff;}#sk-container-id-1 input.sk-toggleable__control:checked~div.sk-toggleable__content {max-height: 200px;max-width: 100%;overflow: auto;}#sk-container-id-1 input.sk-toggleable__control:checked~label.sk-toggleable__label-arrow:before {content: \"▾\";}#sk-container-id-1 div.sk-estimator input.sk-toggleable__control:checked~label.sk-toggleable__label {background-color: #d4ebff;}#sk-container-id-1 div.sk-label input.sk-toggleable__control:checked~label.sk-toggleable__label {background-color: #d4ebff;}#sk-container-id-1 input.sk-hidden--visually {border: 0;clip: rect(1px 1px 1px 1px);clip: rect(1px, 1px, 1px, 1px);height: 1px;margin: -1px;overflow: hidden;padding: 0;position: absolute;width: 1px;}#sk-container-id-1 div.sk-estimator {font-family: monospace;background-color: #f0f8ff;border: 1px dotted black;border-radius: 0.25em;box-sizing: border-box;margin-bottom: 0.5em;}#sk-container-id-1 div.sk-estimator:hover {background-color: #d4ebff;}#sk-container-id-1 div.sk-parallel-item::after {content: \"\";width: 100%;border-bottom: 1px solid gray;flex-grow: 1;}#sk-container-id-1 div.sk-label:hover label.sk-toggleable__label {background-color: #d4ebff;}#sk-container-id-1 div.sk-serial::before {content: \"\";position: absolute;border-left: 1px solid gray;box-sizing: border-box;top: 0;bottom: 0;left: 50%;z-index: 0;}#sk-container-id-1 div.sk-serial {display: flex;flex-direction: column;align-items: center;background-color: white;padding-right: 0.2em;padding-left: 0.2em;position: relative;}#sk-container-id-1 div.sk-item {position: relative;z-index: 1;}#sk-container-id-1 div.sk-parallel {display: flex;align-items: stretch;justify-content: center;background-color: white;position: relative;}#sk-container-id-1 div.sk-item::before, #sk-container-id-1 div.sk-parallel-item::before {content: \"\";position: absolute;border-left: 1px solid gray;box-sizing: border-box;top: 0;bottom: 0;left: 50%;z-index: -1;}#sk-container-id-1 div.sk-parallel-item {display: flex;flex-direction: column;z-index: 1;position: relative;background-color: white;}#sk-container-id-1 div.sk-parallel-item:first-child::after {align-self: flex-end;width: 50%;}#sk-container-id-1 div.sk-parallel-item:last-child::after {align-self: flex-start;width: 50%;}#sk-container-id-1 div.sk-parallel-item:only-child::after {width: 0;}#sk-container-id-1 div.sk-dashed-wrapped {border: 1px dashed gray;margin: 0 0.4em 0.5em 0.4em;box-sizing: border-box;padding-bottom: 0.4em;background-color: white;}#sk-container-id-1 div.sk-label label {font-family: monospace;font-weight: bold;display: inline-block;line-height: 1.2em;}#sk-container-id-1 div.sk-label-container {text-align: center;}#sk-container-id-1 div.sk-container {/* jupyter's `normalize.less` sets `[hidden] { display: none; }` but bootstrap.min.css set `[hidden] { display: none !important; }` so we also need the `!important` here to be able to override the default hidden behavior on the sphinx rendered scikit-learn.org. See: https://github.com/scikit-learn/scikit-learn/issues/21755 */display: inline-block !important;position: relative;}#sk-container-id-1 div.sk-text-repr-fallback {display: none;}</style><div id=\"sk-container-id-1\" class=\"sk-top-container\"><div class=\"sk-text-repr-fallback\"><pre>RandomForestClassifier()</pre><b>In a Jupyter environment, please rerun this cell to show the HTML representation or trust the notebook. <br />On GitHub, the HTML representation is unable to render, please try loading this page with nbviewer.org.</b></div><div class=\"sk-container\" hidden><div class=\"sk-item\"><div class=\"sk-estimator sk-toggleable\"><input class=\"sk-toggleable__control sk-hidden--visually\" id=\"sk-estimator-id-1\" type=\"checkbox\" checked><label for=\"sk-estimator-id-1\" class=\"sk-toggleable__label sk-toggleable__label-arrow\">RandomForestClassifier</label><div class=\"sk-toggleable__content\"><pre>RandomForestClassifier()</pre></div></div></div></div></div>"
      ],
      "text/plain": [
       "RandomForestClassifier()"
      ]
     },
     "execution_count": 7,
     "metadata": {},
     "output_type": "execute_result"
    }
   ],
   "source": [
    "# Treinando modelos\n"
   ]
  },
  {
   "cell_type": "markdown",
   "id": "b449b453",
   "metadata": {},
   "source": [
    "### Testando e avaliando modelos"
   ]
  },
  {
   "cell_type": "code",
   "execution_count": null,
   "id": "322967bb",
   "metadata": {},
   "outputs": [],
   "source": [
    "# Prevendo valores\n"
   ]
  },
  {
   "cell_type": "code",
   "execution_count": null,
   "id": "83259cfc",
   "metadata": {},
   "outputs": [
    {
     "name": "stdout",
     "output_type": "stream",
     "text": [
      "Pontuação Decision tree:1.0\n",
      "Pontuação Random forest:0.9666666666666667\n",
      "Pontuação Knn:0.9666666666666667\n"
     ]
    }
   ],
   "source": [
    "# Avaliação\n",
    "\n",
    "print (f\"Pontuação Decision tree:{tree_score}\")\n",
    "print (f\"Pontuação Random forest:{rf_score}\")\n",
    "print (f\"Pontuação Knn:{knn_score}\")\n"
   ]
  },
  {
   "cell_type": "code",
   "execution_count": null,
   "id": "c46670b4",
   "metadata": {},
   "outputs": [
    {
     "data": {
      "image/png": "[encoded data removed]",
      "text/plain": [
       "<Figure size 576x288 with 1 Axes>"
      ]
     },
     "metadata": {
      "needs_background": "light"
     },
     "output_type": "display_data"
    }
   ],
   "source": [
    "# Plotando resultados\n",
    "plt.figure(figsize = (8,4))\n",
    "plt.title(\"Models accuracy\")\n",
    "plt.bar(x = [0,1,2], height = [tree_score, rf_score, knn_score], color = \"black\")\n",
    "plt.xticks([0,1,2], [\"Tree\",\"RF\", \"KNN\"])\n",
    "plt.ylim(0.8,1.1)\n",
    "plt.ylabel(\"Accuracy\")\n",
    "plt.xlabel(\"Models\")\n",
    "plt.grid()\n",
    "plt.show()"
   ]
  }
 ],
 "metadata": {
  "kernelspec": {
   "display_name": "Python 3 (ipykernel)",
   "language": "python",
   "name": "python3"
  },
  "language_info": {
   "codemirror_mode": {
    "name": "ipython",
    "version": 3
   },
   "file_extension": ".py",
   "mimetype": "text/x-python",
   "name": "python",
   "nbconvert_exporter": "python",
   "pygments_lexer": "ipython3",
   "version": "3.10.11"
  }
 },
 "nbformat": 4,
 "nbformat_minor": 5
}
