{
 "cells": [
  {
   "cell_type": "markdown",
   "id": "d8883047",
   "metadata": {},
   "source": [
    "# PSO - Cornfield Vector "
   ]
  },
  {
   "cell_type": "markdown",
   "id": "4010d522",
   "metadata": {},
   "source": [
    "    - Simular geograficamente o comportamento das espécies\n",
    "    - Lembrança da melhor posição individual\n",
    "    - Lembrança da melhor posição global"
   ]
  },
  {
   "cell_type": "markdown",
   "id": "d7a9b06a",
   "metadata": {},
   "source": [
    "## Classe da função a ser minimizada"
   ]
  },
  {
   "cell_type": "markdown",
   "id": "ed119f3e",
   "metadata": {},
   "source": [
    "### Minimizar X^2 + Y^2"
   ]
  },
  {
   "cell_type": "code",
   "execution_count": null,
   "id": "1c2eb310",
   "metadata": {},
   "outputs": [],
   "source": [
    "class Utils:\n",
    "    \n",
    "    def function(position):\n",
    "        '''\n",
    "        Calculo da função\n",
    "        '''\n",
    "        position = np.array(position)\n",
    "        result = sum(position**2)\n",
    "            \n",
    "        return result"
   ]
  },
  {
   "cell_type": "markdown",
   "id": "1aeefd41",
   "metadata": {},
   "source": [
    "## Classe das Partículas"
   ]
  },
  {
   "cell_type": "code",
   "execution_count": null,
   "id": "ffe2785f",
   "metadata": {},
   "outputs": [],
   "source": [
    "import random\n",
    "import numpy as np\n",
    "\n",
    "class Particle:\n",
    "    '''\n",
    "    Construtor\n",
    "    '''\n",
    "    def __init__(self, num_dimensions, bounds):\n",
    "        self.num_dimensions = num_dimensions\n",
    "        self.position = []\n",
    "        self.velocity = []\n",
    "        self.pbest_pos = [] # Melhor posição histórica da particula\n",
    "        self.pbest_err = -1 # Melhor erro que a partícula teve\n",
    "        self.err = -1 # Erro atual da partícula\n",
    "\n",
    "        for i in range(0, self.num_dimensions):\n",
    "            self.position.append(random.uniform(bounds[i][0], bounds[i][1]))\n",
    "            self.velocity.append(random.uniform(bounds[i][0], bounds[i][1]))\n",
    "\n",
    "    def evaluate(self, cost_function):\n",
    "        '''\n",
    "        Função que avalia e compara a proximidade de cada uma das partículas em relação ao objetivo\n",
    "        '''\n",
    "        self.err = cost_function(self.position)\n",
    "\n",
    "        if self.err < self.pbest_err or self.pbest_err == -1:\n",
    "            self.pbest_err = self.err\n",
    "            self.pbest_pos = self.position\n",
    "\n",
    "    def update_velocity(self, gbest_pos):\n",
    "        '''\n",
    "        Atualiza a velocidade com base em um \"fator de craziness\", o pbest e o gbest\n",
    "        '''\n",
    "        w = 0.5 #inércia\n",
    "        c1 = 1\n",
    "        c2 = 1\n",
    "\n",
    "        for i in range(0, self.num_dimensions):\n",
    "            r1 = random.random()\n",
    "            r2 = random.random()\n",
    "\n",
    "            vel_cognitive = c1 * r1 * (self.pbest_pos[i] - self.position[i])\n",
    "            vel_social = c2 * r2 * (gbest_pos[i] - self.position[i])\n",
    "\n",
    "            self.velocity[i] = w * self.velocity[i] + vel_cognitive + vel_social\n",
    "\n",
    "    def update_position(self, bounds):\n",
    "        '''\n",
    "        Atualiza a posição de cada uma das partículas\n",
    "        '''\n",
    "        for i in range(0, self.num_dimensions):\n",
    "            self.position[i] = self.position[i] + self.velocity[i]\n",
    "\n",
    "            if self.position[i] < bounds[i][0]:\n",
    "                self.position[i] = bounds[i][0]\n",
    "\n",
    "            if self.position[i] > bounds[i][1]:\n",
    "                self.position[i] = bounds[i][1]\n",
    "            "
   ]
  },
  {
   "cell_type": "markdown",
   "id": "2aad640e",
   "metadata": {},
   "source": [
    "## Classe PSO"
   ]
  },
  {
   "cell_type": "code",
   "execution_count": null,
   "id": "e8bce13a",
   "metadata": {},
   "outputs": [],
   "source": [
    "class PSO:\n",
    "\n",
    "    def __init__(self, num_dimensions, cost_function, bounds, num_particles, max_iterations):\n",
    "        '''\n",
    "        Construtor\n",
    "        '''\n",
    "        gbest_err = -1\n",
    "        gbest_pos = []\n",
    "        \n",
    "        PlotUtils.start_plot()\n",
    "        \n",
    "        swarm = []\n",
    "        for i in range(0, num_particles):\n",
    "            swarm.append(Particle(num_dimensions, bounds))\n",
    "\n",
    "        i = 0\n",
    "        while i < max_iterations:\n",
    "            print(f\"i = {i}\\tgbest_pos = {gbest_pos}\\tgbest_err = {gbest_err}\")\n",
    "\n",
    "            for j in range(0, num_particles):\n",
    "                swarm[j].evaluate(cost_function)\n",
    "\n",
    "                if swarm[j].err < gbest_err  or gbest_err == -1:\n",
    "                    gbest_pos = list(swarm[j].position)\n",
    "                    gbest_err = float(swarm[j].err)\n",
    "\n",
    "            for j in range(0, num_particles):\n",
    "                swarm[j].update_velocity(gbest_pos)\n",
    "                swarm[j].update_position(bounds)\n",
    "\n",
    "                PlotUtils.plot_particle(swarm[j])\n",
    "            \n",
    "            PlotUtils.plot_iteration(i)\n",
    "            i += 1\n",
    "\n",
    "\n",
    "        PlotUtils.save()\n",
    "        print(f\"i = {i}\\tgbest_pos = {gbest_pos}\\tgbest_err = {gbest_err}\")"
   ]
  },
  {
   "cell_type": "markdown",
   "id": "a65f76dc",
   "metadata": {},
   "source": [
    "## Classe de Plot"
   ]
  },
  {
   "cell_type": "code",
   "execution_count": null,
   "id": "ec5ceaf4",
   "metadata": {},
   "outputs": [],
   "source": [
    "from matplotlib import pyplot as plt\n",
    "from PIL import Image\n",
    "import glob\n",
    "import os\n",
    "import shutil\n",
    "\n",
    "class PlotUtils:\n",
    "\n",
    "    directory = \"pso_plots\"\n",
    "    filename = 'pso_cornfield.gif'\n",
    "\n",
    "    @staticmethod\n",
    "    def start_plot():\n",
    "        if os.path.exists(PlotUtils.directory):\n",
    "            shutil.rmtree(PlotUtils.directory)\n",
    "        if not os.path.exists(PlotUtils.directory):\n",
    "            os.makedirs(PlotUtils.directory)\n",
    "\n",
    "    @staticmethod\n",
    "    def plot_particle(particle):\n",
    "        plt.scatter(particle.position[0], particle.position[1])\n",
    "\n",
    "    @staticmethod\n",
    "    def plot_iteration(i):\n",
    "        plt.title(f\"PSO {i}\")\n",
    "        plt.xlim(-20, 20)\n",
    "        plt.ylim(-20, 20)\n",
    "        plt.xlabel('x[0]')\n",
    "        plt.ylabel('x[1]')\n",
    "        iteration = str(i).zfill(5)\n",
    "        plt.savefig(f\"pso_plots/iteration_{iteration}.png\", facecolor = \"white\", dpi = 75)\n",
    "        plt.close()\n",
    "\n",
    "    @staticmethod\n",
    "    def save():\n",
    "        images = [Image.open(f) for f in sorted(glob.glob(PlotUtils.directory+\"/*\"))]\n",
    "        img = images[0]\n",
    "        img.save(fp=PlotUtils.filename, format='GIF', append_images=images, save_all=True, duration=200, loop=0)\n",
    "        if os.path.exists(PlotUtils.directory):\n",
    "            shutil.rmtree(PlotUtils.directory)"
   ]
  },
  {
   "cell_type": "markdown",
   "id": "b20c0807",
   "metadata": {},
   "source": [
    "## Main"
   ]
  },
  {
   "cell_type": "code",
   "execution_count": null,
   "id": "69cfd27a",
   "metadata": {},
   "outputs": [],
   "source": [
    "if __name__ == \"__main__\":\n",
    "    \n",
    "    num_dimensions = 2\n",
    "    cost_function = Utils.function\n",
    "    input_bounds = [(-15, +15), (-15, +15)]\n",
    "    num_particles = 100\n",
    "    max_iterations = 25\n",
    "\n",
    "    PSO(num_dimensions, cost_function, input_bounds, num_particles, max_iterations)"
   ]
  },
  {
   "cell_type": "code",
   "execution_count": null,
   "id": "c920e0da",
   "metadata": {},
   "outputs": [],
   "source": []
  }
 ],
 "metadata": {
  "kernelspec": {
   "display_name": "Python 3 (ipykernel)",
   "language": "python",
   "name": "python3"
  },
  "language_info": {
   "codemirror_mode": {
    "name": "ipython",
    "version": 3
   },
   "file_extension": ".py",
   "mimetype": "text/x-python",
   "name": "python",
   "nbconvert_exporter": "python",
   "pygments_lexer": "ipython3",
   "version": "3.10.11"
  }
 },
 "nbformat": 4,
 "nbformat_minor": 5
}
